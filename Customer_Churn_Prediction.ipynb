{
  "nbformat": 4,
  "nbformat_minor": 0,
  "metadata": {
    "colab": {
      "provenance": [],
      "authorship_tag": "ABX9TyP5NrkfrJhAu99dGkzL58ly",
      "include_colab_link": true
    },
    "kernelspec": {
      "name": "python3",
      "display_name": "Python 3"
    },
    "language_info": {
      "name": "python"
    }
  },
  "cells": [
    {
      "cell_type": "markdown",
      "metadata": {
        "id": "view-in-github",
        "colab_type": "text"
      },
      "source": [
        "<a href=\"https://colab.research.google.com/github/Tehseen-Meo567/CODSOFT/blob/main/Customer_Churn_Prediction.ipynb\" target=\"_parent\"><img src=\"https://colab.research.google.com/assets/colab-badge.svg\" alt=\"Open In Colab\"/></a>"
      ]
    },
    {
      "cell_type": "markdown",
      "source": [
        "# **Customer Churn Prediction**\n",
        "\n",
        "---\n",
        "\n",
        "\n",
        "\n"
      ],
      "metadata": {
        "id": "Y94AukxMpqMm"
      }
    },
    {
      "cell_type": "markdown",
      "source": [
        "BY : TEHSEEN MEO\n",
        "\n",
        "---\n",
        "\n"
      ],
      "metadata": {
        "id": "p9acFQ5cqASZ"
      }
    },
    {
      "cell_type": "markdown",
      "source": [
        "Importing the Libraries"
      ],
      "metadata": {
        "id": "2QQZwIf8qRQ0"
      }
    },
    {
      "cell_type": "code",
      "execution_count": 1,
      "metadata": {
        "id": "jW0YwikQpT0h"
      },
      "outputs": [],
      "source": [
        "import numpy as np\n",
        "import matplotlib.pyplot as plt\n",
        "import pandas as pd"
      ]
    },
    {
      "cell_type": "markdown",
      "source": [
        "Load the Dataset"
      ],
      "metadata": {
        "id": "_lDfnP_PqWny"
      }
    },
    {
      "cell_type": "code",
      "source": [
        "customer_data = pd.read_csv('Churn_Modelling.csv')"
      ],
      "metadata": {
        "id": "yk9QRZh_qbIt"
      },
      "execution_count": 2,
      "outputs": []
    },
    {
      "cell_type": "markdown",
      "source": [
        "Feature Selection"
      ],
      "metadata": {
        "id": "IjEzPFv_qnQG"
      }
    },
    {
      "cell_type": "code",
      "source": [
        "columns = customer_data.columns.values.tolist()\n",
        "print(columns)"
      ],
      "metadata": {
        "colab": {
          "base_uri": "https://localhost:8080/"
        },
        "id": "GLjmMhA3qmWB",
        "outputId": "9cf4aa2d-d527-4d5a-8f58-876c39a8eddc"
      },
      "execution_count": 3,
      "outputs": [
        {
          "output_type": "stream",
          "name": "stdout",
          "text": [
            "['RowNumber', 'CustomerId', 'Surname', 'CreditScore', 'Geography', 'Gender', 'Age', 'Tenure', 'Balance', 'NumOfProducts', 'HasCrCard', 'IsActiveMember', 'EstimatedSalary', 'Exited']\n"
          ]
        }
      ]
    },
    {
      "cell_type": "code",
      "source": [
        "dataset = customer_data.drop(['RowNumber', 'CustomerId', 'Surname'], axis=1)"
      ],
      "metadata": {
        "id": "w7M8EmK5q5qW"
      },
      "execution_count": 4,
      "outputs": []
    },
    {
      "cell_type": "markdown",
      "source": [
        "Converting Categorical Columns to Numeric Columns"
      ],
      "metadata": {
        "id": "QS2BayHurDFM"
      }
    },
    {
      "cell_type": "code",
      "source": [
        "dataset =  dataset.drop(['Geography', 'Gender'], axis=1)"
      ],
      "metadata": {
        "id": "1wd4ORq-q6hj"
      },
      "execution_count": 5,
      "outputs": []
    },
    {
      "cell_type": "code",
      "source": [
        "Geography = pd.get_dummies(customer_data.Geography).iloc[:,1:]\n",
        "Gender = pd.get_dummies(customer_data.Gender).iloc[:,1:]"
      ],
      "metadata": {
        "id": "EbYKOqQRrN1l"
      },
      "execution_count": 6,
      "outputs": []
    },
    {
      "cell_type": "code",
      "source": [
        "dataset = pd.concat([dataset,Geography,Gender], axis=1)"
      ],
      "metadata": {
        "id": "PK0L9Ju2rOyR"
      },
      "execution_count": 7,
      "outputs": []
    },
    {
      "cell_type": "markdown",
      "source": [
        "Data Preprocessing"
      ],
      "metadata": {
        "id": "4d5KhQ58rXcs"
      }
    },
    {
      "cell_type": "code",
      "source": [
        "X =  dataset.drop(['Exited'], axis=1)\n",
        "y = dataset['Exited']"
      ],
      "metadata": {
        "id": "FZJaqt2IrYYl"
      },
      "execution_count": 8,
      "outputs": []
    },
    {
      "cell_type": "code",
      "source": [
        "from sklearn.model_selection import train_test_split\n",
        "X_train, X_test, y_train, y_test = train_test_split(X, y, test_size = 0.2, random_state = 3)"
      ],
      "metadata": {
        "id": "8ApT-ZEWrdJy"
      },
      "execution_count": 9,
      "outputs": []
    },
    {
      "cell_type": "markdown",
      "source": [
        "Machine Learning Algorithm Training"
      ],
      "metadata": {
        "id": "0z6OiKLirrXr"
      }
    },
    {
      "cell_type": "code",
      "source": [
        "from sklearn.ensemble import RandomForestClassifier\n",
        "classifier = RandomForestClassifier(n_estimators=200, random_state=0)\n",
        "classifier.fit(X_train, y_train)\n",
        "predictions = classifier.predict(X_test)"
      ],
      "metadata": {
        "id": "5JGnLiiErnu2"
      },
      "execution_count": 10,
      "outputs": []
    },
    {
      "cell_type": "markdown",
      "source": [
        "Evaluate Model"
      ],
      "metadata": {
        "id": "kaBVUckur1tJ"
      }
    },
    {
      "cell_type": "code",
      "source": [
        "from sklearn.metrics import classification_report, accuracy_score\n",
        "print(classification_report(y_test,predictions ))\n",
        "print(accuracy_score(y_test, predictions ))"
      ],
      "metadata": {
        "colab": {
          "base_uri": "https://localhost:8080/"
        },
        "id": "rSnCPLA-rx0K",
        "outputId": "628ac03a-010b-42c0-dc62-c5f363a2de99"
      },
      "execution_count": 11,
      "outputs": [
        {
          "output_type": "stream",
          "name": "stdout",
          "text": [
            "              precision    recall  f1-score   support\n",
            "\n",
            "           0       0.88      0.96      0.92      1605\n",
            "           1       0.73      0.44      0.55       395\n",
            "\n",
            "    accuracy                           0.86      2000\n",
            "   macro avg       0.80      0.70      0.73      2000\n",
            "weighted avg       0.85      0.86      0.84      2000\n",
            "\n",
            "0.8575\n"
          ]
        }
      ]
    },
    {
      "cell_type": "markdown",
      "source": [
        "Feature Evaluation"
      ],
      "metadata": {
        "id": "h9X0KBdEr-Xj"
      }
    },
    {
      "cell_type": "code",
      "source": [
        "feat_importances = pd.Series(classifier.feature_importances_, index=X.columns)\n",
        "feat_importances.nlargest(10).plot(kind='barh')"
      ],
      "metadata": {
        "colab": {
          "base_uri": "https://localhost:8080/",
          "height": 447
        },
        "id": "KlNJRjHDr_Q0",
        "outputId": "f6647652-764b-4fb3-a395-943fd7f158c6"
      },
      "execution_count": 12,
      "outputs": [
        {
          "output_type": "execute_result",
          "data": {
            "text/plain": [
              "<Axes: >"
            ]
          },
          "metadata": {},
          "execution_count": 12
        },
        {
          "output_type": "display_data",
          "data": {
            "text/plain": [
              "<Figure size 640x480 with 1 Axes>"
            ],
            "image/png": "[encoded data removed]"
          },
          "metadata": {}
        }
      ]
    }
  ]
}